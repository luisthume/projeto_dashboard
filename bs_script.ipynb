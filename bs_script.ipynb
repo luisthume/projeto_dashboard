{
 "cells": [
  {
   "cell_type": "code",
   "execution_count": 2,
   "metadata": {},
   "outputs": [],
   "source": [
    "import bs4\n",
    "import lxml\n",
    "from bs4 import BeautifulSoup as bs\n",
    "import glob\n",
    "import json"
   ]
  },
  {
   "cell_type": "code",
   "execution_count": 23,
   "metadata": {},
   "outputs": [],
   "source": [
    "xmls = glob.glob(\"xmls_test/*.xml\")"
   ]
  },
  {
   "cell_type": "code",
   "execution_count": 24,
   "metadata": {},
   "outputs": [
    {
     "data": {
      "text/plain": [
       "['xmls_test/43201200218077000990550010001144161416912163-nfe (copy).xml',\n",
       " 'xmls_test/43201200218077000990550010001134881772699658-nfe (copy).xml',\n",
       " 'xmls_test/43210100218077000990550010001147981767981408-nfe.xml',\n",
       " 'xmls_test/43201200218077000990550010001136721836290780-nfe.xml',\n",
       " 'xmls_test/43201200218077000990550010001145531034724421-nfe (copy).xml',\n",
       " 'xmls_test/43201200218077000990550010001134931416749283-nfe (copy).xml',\n",
       " 'xmls_test/43201200218077000990550010001139701120808083-nfe.xml',\n",
       " 'xmls_test/43201200218077000990550010001139021185122402-nfe.xml',\n",
       " 'xmls_test/43210100218077000990550010001147981767981408-nfe (copy).xml',\n",
       " 'xmls_test/43201200218077000990550010001134881772699658-nfe.xml',\n",
       " 'xmls_test/43201200218077000990550010001136741055710420-nfe.xml',\n",
       " 'xmls_test/43201200218077000990550010001134921969668638-nfe (copy).xml',\n",
       " 'xmls_test/43201200218077000990550010001137961468887847-nfe.xml',\n",
       " 'xmls_test/43201200218077000990550010001138991000574649-nfe.xml',\n",
       " 'xmls_test/43201200218077000990550010001134921969668638-nfe.xml',\n",
       " 'xmls_test/43201200218077000990550010001139091543316924-nfe.xml',\n",
       " 'xmls_test/43201200218077000990550010001144161416912163-nfe.xml',\n",
       " 'xmls_test/43201200218077000990550010001145531034724421-nfe.xml',\n",
       " 'xmls_test/43201200218077000990550010001137911928389504-nfe.xml',\n",
       " 'xmls_test/43201200218077000990550010001134931416749283-nfe.xml',\n",
       " 'xmls_test/43201200218077000990550010001145551734228979-nfe.xml',\n",
       " 'xmls_test/43201200218077000990550010001139041340629379-nfe.xml',\n",
       " 'xmls_test/43201200218077000990550010001139111264160829-nfe.xml']"
      ]
     },
     "execution_count": 24,
     "metadata": {},
     "output_type": "execute_result"
    }
   ],
   "source": [
    "xmls"
   ]
  },
  {
   "cell_type": "code",
   "execution_count": 33,
   "metadata": {},
   "outputs": [
    {
     "name": "stdout",
     "output_type": "stream",
     "text": [
      "O cnpj 00218077000990, com o nome QUINTA DO VALE ALIMENTOS LTDA - FL08, emitiu a nota de id=NFe43201200218077000990550010001144161416912163 para o CNPJ 75315333019802, com o nome 13274-ATACADAO S.A., no valor de: 4380.00\n",
      "\n",
      "O cnpj 00218077000990, com o nome QUINTA DO VALE ALIMENTOS LTDA - FL08, emitiu a nota de id=NFe43201200218077000990550010001134881772699658 para o CNPJ 93209765022943, com o nome 8534-WMS SUPERMERCADOS DO BRASIL LTDA, no valor de: 10476.16\n",
      "\n",
      "O cnpj 00218077000990, com o nome QUINTA DO VALE ALIMENTOS LTDA - FL08, emitiu a nota de id=NFe43210100218077000990550010001147981767981408 para o CNPJ 93209765015734, com o nome 8533-WMS SUPERMERCADOS DO BRASIL LTDA, no valor de: 7295.73\n",
      "\n",
      "O cnpj 00218077000990, com o nome QUINTA DO VALE ALIMENTOS LTDA - FL08, emitiu a nota de id=NFe43201200218077000990550010001136721836290780 para o CNPJ 93209765015734, com o nome 8533-WMS SUPERMERCADOS DO BRASIL LTDA, no valor de: 5446.60\n",
      "\n",
      "O cnpj 00218077000990, com o nome QUINTA DO VALE ALIMENTOS LTDA - FL08, emitiu a nota de id=NFe43201200218077000990550010001145531034724421 para o CNPJ 93209765022943, com o nome 8534-WMS SUPERMERCADOS DO BRASIL LTDA, no valor de: 3726.32\n",
      "\n",
      "O cnpj 00218077000990, com o nome QUINTA DO VALE ALIMENTOS LTDA - FL08, emitiu a nota de id=NFe43201200218077000990550010001134931416749283 para o CNPJ 93209765011070, com o nome 8531-WMS SUPERMERCADOS DO BRASIL LTDA, no valor de: 10172.81\n",
      "\n",
      "O cnpj 00218077000990, com o nome QUINTA DO VALE ALIMENTOS LTDA - FL08, emitiu a nota de id=NFe43201200218077000990550010001139701120808083 para o CNPJ 93209765016110, com o nome 8528-WMS SUPERMERCADOS DO BRASIL LTDA, no valor de: 14090.91\n",
      "\n",
      "O cnpj 00218077000990, com o nome QUINTA DO VALE ALIMENTOS LTDA - FL08, emitiu a nota de id=NFe43201200218077000990550010001139021185122402 para o CNPJ 93209765011666, com o nome 8540-WMS SUPERMERCADOS DO BRASIL LTDA, no valor de: 2956.16\n",
      "\n",
      "Já lida\n",
      "\n",
      "Já lida\n",
      "\n",
      "O cnpj 00218077000990, com o nome QUINTA DO VALE ALIMENTOS LTDA - FL08, emitiu a nota de id=NFe43201200218077000990550010001136741055710420 para o CNPJ 93209765011070, com o nome 8531-WMS SUPERMERCADOS DO BRASIL LTDA, no valor de: 6955.63\n",
      "\n",
      "O cnpj 00218077000990, com o nome QUINTA DO VALE ALIMENTOS LTDA - FL08, emitiu a nota de id=NFe43201200218077000990550010001134921969668638 para o CNPJ 93209765017788, com o nome 8529-WMS SUPERMERCADOS DO BRASIL LTDA, no valor de: 13483.82\n",
      "\n",
      "O cnpj 00218077000990, com o nome QUINTA DO VALE ALIMENTOS LTDA - FL08, emitiu a nota de id=NFe43201200218077000990550010001137961468887847 para o CNPJ 92016757005231, com o nome 6987-COML ZAFFARI LTDA, no valor de: 12986.62\n",
      "\n",
      "O cnpj 00218077000990, com o nome QUINTA DO VALE ALIMENTOS LTDA - FL08, emitiu a nota de id=NFe43201200218077000990550010001138991000574649 para o CNPJ 93209765016110, com o nome 8528-WMS SUPERMERCADOS DO BRASIL LTDA, no valor de: 14546.84\n",
      "\n",
      "Já lida\n",
      "\n",
      "O cnpj 00218077000990, com o nome QUINTA DO VALE ALIMENTOS LTDA - FL08, emitiu a nota de id=NFe43201200218077000990550010001139091543316924 para o CNPJ 92016757005312, com o nome 6972-COML ZAFFARI LTDA, no valor de: 8984.52\n",
      "\n",
      "Já lida\n",
      "\n",
      "Já lida\n",
      "\n",
      "O cnpj 00218077000990, com o nome QUINTA DO VALE ALIMENTOS LTDA - FL08, emitiu a nota de id=NFe43201200218077000990550010001137911928389504 para o CNPJ 93209765032310, com o nome 8536-WMS SUPERMERCADOS DO BRASIL LTDA, no valor de: 12302.94\n",
      "\n",
      "Já lida\n",
      "\n",
      "O cnpj 00218077000990, com o nome QUINTA DO VALE ALIMENTOS LTDA - FL08, emitiu a nota de id=NFe43201200218077000990550010001145551734228979 para o CNPJ 93209765032310, com o nome 8536-WMS SUPERMERCADOS DO BRASIL LTDA, no valor de: 16255.72\n",
      "\n",
      "O cnpj 00218077000990, com o nome QUINTA DO VALE ALIMENTOS LTDA - FL08, emitiu a nota de id=NFe43201200218077000990550010001139041340629379 para o CNPJ 92016757006718, com o nome 2386-COML ZAFFARI LTDA, no valor de: 4201.90\n",
      "\n",
      "O cnpj 00218077000990, com o nome QUINTA DO VALE ALIMENTOS LTDA - FL08, emitiu a nota de id=NFe43201200218077000990550010001139111264160829 para o CNPJ 92016757005070, com o nome 6957-COML ZAFFARI LTDA, no valor de: 8220.76\n",
      "\n"
     ]
    }
   ],
   "source": [
    "nfes_banco = []\n",
    "\n",
    "for i in xmls:\n",
    "    content = []\n",
    "    # Read the XML file\n",
    "    with open(i, \"r\") as file:\n",
    "        # Read each line in the file, readlines() returns a list of lines\n",
    "        content = file.readlines()\n",
    "        # Combine the lines in the list into a string\n",
    "        content = \"\".join(content)\n",
    "        bs_content = bs(content, \"lxml\")\n",
    "    file.close\n",
    "    \n",
    "    nfe_id = bs_content.find('infnfe')['id']\n",
    "    \n",
    "    if nfe_id in nfes_banco:\n",
    "        print('Já lida\\n')\n",
    "        continue\n",
    "    else:\n",
    "        nfes_banco.append(nfe_id)\n",
    "        \n",
    "    emit = bs_content.find('emit')\n",
    "    emit_cnpj = emit.find('cnpj').text\n",
    "    emit_nome = emit.find('xnome').text\n",
    "\n",
    "    dest = bs_content.find('dest')\n",
    "    dest_cnpj = dest.find('cnpj').text\n",
    "    dest_nome = dest.find('xnome').text\n",
    "\n",
    "    cobr_fat_vorig = bs_content.find('cobr').find('fat').find('vorig').text\n",
    "\n",
    "    print('O cnpj {}, com o nome {}, emitiu a nota de id={} para o CNPJ {}, com o nome {}, no valor de: {}\\n'.format(emit_cnpj, emit_nome, nfe_id,dest_cnpj, dest_nome, cobr_fat_vorig))\n"
   ]
  },
  {
   "cell_type": "code",
   "execution_count": null,
   "metadata": {},
   "outputs": [],
   "source": []
  }
 ],
 "metadata": {
  "kernelspec": {
   "display_name": "Python 3",
   "language": "python",
   "name": "python3"
  },
  "language_info": {
   "codemirror_mode": {
    "name": "ipython",
    "version": 3
   },
   "file_extension": ".py",
   "mimetype": "text/x-python",
   "name": "python",
   "nbconvert_exporter": "python",
   "pygments_lexer": "ipython3",
   "version": "3.7.6"
  }
 },
 "nbformat": 4,
 "nbformat_minor": 4
}
