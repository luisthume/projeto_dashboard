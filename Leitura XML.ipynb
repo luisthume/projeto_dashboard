{
 "cells": [
  {
   "cell_type": "code",
   "execution_count": 3,
   "metadata": {},
   "outputs": [],
   "source": [
    "import pandas as pd\n",
    "import xml.etree.ElementTree as ET\n",
    "import io"
   ]
  },
  {
   "cell_type": "code",
   "execution_count": 4,
   "metadata": {},
   "outputs": [],
   "source": [
    "def iter_docs(author):\n",
    "    author_attr = author.attrib\n",
    "    for doc in author.iter('document'):\n",
    "        doc_dict = author_attr.copy()\n",
    "        doc_dict.update(doc.attrib)\n",
    "        doc_dict['data'] = doc.text\n",
    "        yield doc_dict"
   ]
  },
  {
   "cell_type": "code",
   "execution_count": 8,
   "metadata": {},
   "outputs": [],
   "source": [
    "xml_data = open('xmls/43201200218077000990550010001134881772699658-nfe.xml', 'r')\n",
    "\n",
    "etree = ET.parse(xml_data) #create an ElementTree object \n",
    "doc_df = pd.DataFrame(list(iter_docs(etree.getroot())))"
   ]
  },
  {
   "cell_type": "code",
   "execution_count": 17,
   "metadata": {},
   "outputs": [
    {
     "data": {
      "text/plain": [
       "<_io.TextIOWrapper name='xmls/43201200218077000990550010001134881772699658-nfe.xml' mode='r' encoding='UTF-8'>"
      ]
     },
     "execution_count": 17,
     "metadata": {},
     "output_type": "execute_result"
    }
   ],
   "source": [
    "xml_data"
   ]
  },
  {
   "cell_type": "code",
   "execution_count": 18,
   "metadata": {},
   "outputs": [
    {
     "name": "stdout",
     "output_type": "stream",
     "text": [
      "\n",
      "All attributes:\n",
      "{'versao': '4.00', 'Id': 'NFe43201200218077000990550010001134881772699658'}\n",
      "{}\n",
      "{}\n"
     ]
    }
   ],
   "source": [
    "tree = ET.parse('xmls/43201200218077000990550010001134881772699658-nfe.xml')\n",
    "root = tree.getroot()\n",
    "\n",
    "# all item attributes\n",
    "print('\\nAll attributes:')\n",
    "for elem in root:\n",
    "    for subelem in elem:\n",
    "        print(subelem.attrib)"
   ]
  },
  {
   "cell_type": "code",
   "execution_count": null,
   "metadata": {},
   "outputs": [],
   "source": []
  },
  {
   "cell_type": "code",
   "execution_count": null,
   "metadata": {},
   "outputs": [],
   "source": []
  },
  {
   "cell_type": "code",
   "execution_count": null,
   "metadata": {},
   "outputs": [],
   "source": []
  },
  {
   "cell_type": "code",
   "execution_count": null,
   "metadata": {},
   "outputs": [],
   "source": []
  },
  {
   "cell_type": "code",
   "execution_count": null,
   "metadata": {},
   "outputs": [],
   "source": []
  },
  {
   "cell_type": "code",
   "execution_count": null,
   "metadata": {},
   "outputs": [],
   "source": []
  },
  {
   "cell_type": "code",
   "execution_count": 25,
   "metadata": {},
   "outputs": [
    {
     "name": "stdout",
     "output_type": "stream",
     "text": [
      "Quantidade de itens: 3\n",
      "<DOM Element: CNPJ at 0x7fbc956364b0>\n",
      "<DOM Element: CNPJ at 0x7fbc95636f50>\n",
      "<DOM Element: CNPJ at 0x7fbc954eee10>\n"
     ]
    }
   ],
   "source": [
    "from xml.dom import minidom\n",
    "\n",
    "arquivo = \"43201200218077000990550010001134881772699658-nfe.xml\"\n",
    "\n",
    "#ler do arquivo\n",
    "xmldoc = minidom.parse(arquivo)\n",
    "\n",
    "itemlist = xmldoc.getElementsByTagName('CNPJ') \n",
    "print('Quantidade de itens:', len(itemlist))\n",
    "for s in itemlist:\n",
    "    print(s)"
   ]
  },
  {
   "cell_type": "code",
   "execution_count": 69,
   "metadata": {},
   "outputs": [
    {
     "name": "stdout",
     "output_type": "stream",
     "text": [
      "Quantidade de itens: 1\n",
      "<xml.dom.minidom.NamedNodeMap object at 0x7fbc9609fbe0>\n"
     ]
    }
   ],
   "source": [
    "itemlist = xmldoc.getElementsByTagName('emit') \n",
    "print('Quantidade de itens:', len(itemlist))\n",
    "for s in itemlist:\n",
    "    print(s.attributes)"
   ]
  },
  {
   "cell_type": "code",
   "execution_count": null,
   "metadata": {},
   "outputs": [],
   "source": [
    "#\n",
    "#xmldoc = minidom.parse('sampleXML.xml')\n",
    "#Grab the first occurence of the \"secondSetOfItems\" element\n",
    "\n",
    "#second_items = xmldoc.getElementsByTagName(\"secondSetOfItems\")[0]\n",
    "#item_list = second_items.getElementsByTagName(\"item\")\n",
    "\n",
    "#for item in item_list:\n",
    "#    print item.attributes['name'].value\n",
    "#\n",
    "#\n",
    "#\n",
    "#"
   ]
  },
  {
   "cell_type": "code",
   "execution_count": 74,
   "metadata": {},
   "outputs": [
    {
     "name": "stdout",
     "output_type": "stream",
     "text": [
      "\n"
     ]
    }
   ],
   "source": [
    "print (\" \".join(t.nodeValue for t in itemlist[0].childNodes if t.nodeType == t.TEXT_NODE))"
   ]
  },
  {
   "cell_type": "code",
   "execution_count": 67,
   "metadata": {},
   "outputs": [
    {
     "name": "stdout",
     "output_type": "stream",
     "text": [
      "None\n"
     ]
    }
   ],
   "source": [
    "itemlist[0].getElementsByTagName('CNPJ')[0].nodeValue"
   ]
  }
 ],
 "metadata": {
  "kernelspec": {
   "display_name": "Python 3",
   "language": "python",
   "name": "python3"
  },
  "language_info": {
   "codemirror_mode": {
    "name": "ipython",
    "version": 3
   },
   "file_extension": ".py",
   "mimetype": "text/x-python",
   "name": "python",
   "nbconvert_exporter": "python",
   "pygments_lexer": "ipython3",
   "version": "3.7.6"
  }
 },
 "nbformat": 4,
 "nbformat_minor": 4
}
