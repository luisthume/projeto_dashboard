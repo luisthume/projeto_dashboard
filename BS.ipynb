{
 "cells": [
  {
   "cell_type": "code",
   "execution_count": 3,
   "metadata": {},
   "outputs": [],
   "source": [
    "import bs4\n",
    "import lxml\n",
    "from bs4 import BeautifulSoup as bs"
   ]
  },
  {
   "cell_type": "code",
   "execution_count": 2,
   "metadata": {},
   "outputs": [],
   "source": [
    "arquivo = '43201200218077000990550010001134881772699658-nfe.xml'"
   ]
  },
  {
   "cell_type": "code",
   "execution_count": 4,
   "metadata": {},
   "outputs": [],
   "source": [
    "content = []\n",
    "# Read the XML file\n",
    "with open(arquivo, \"r\") as file:\n",
    "    # Read each line in the file, readlines() returns a list of lines\n",
    "    content = file.readlines()\n",
    "    # Combine the lines in the list into a string\n",
    "    content = \"\".join(content)\n",
    "    bs_content = bs(content, \"lxml\")"
   ]
  },
  {
   "cell_type": "code",
   "execution_count": 6,
   "metadata": {},
   "outputs": [
    {
     "data": {
      "text/plain": [
       "<?xml version=\"1.0\" encoding=\"UTF-8\"?><html><body><nfeproc versao=\"4.00\" xmlns=\"http://www.portalfiscal.inf.br/nfe\"><nfe xmlns=\"http://www.portalfiscal.inf.br/nfe\"><infnfe id=\"NFe43201200218077000990550010001134881772699658\" versao=\"4.00\"><ide><cuf>43</cuf><cnf>77269965</cnf><natop>Venda de Produtos/Venda de Mercadoria</natop><mod>55</mod><serie>1</serie><nnf>113488</nnf><dhemi>2020-12-11T17:20:00-03:00</dhemi><dhsaient>2020-12-11T19:00:00-03:00</dhsaient><tpnf>1</tpnf><iddest>1</iddest><cmunfg>4306809</cmunfg><tpimp>1</tpimp><tpemis>1</tpemis><cdv>8</cdv><tpamb>1</tpamb><finnfe>1</finnfe><indfinal>0</indfinal><indpres>9</indpres><procemi>0</procemi><verproc>SystemProv202009</verproc></ide><emit><cnpj>00218077000990</cnpj><xnome>QUINTA DO VALE ALIMENTOS LTDA - FL08</xnome><xfant>QUINTA DO VALE ALIMENTOS LTDA</xfant><enderemit><xlgr>Rua Agostinho Costi</xlgr><nro>1700</nro><xbairro>Barra do Jacare</xbairro><cmun>4306809</cmun><xmun>Encantado</xmun><uf>RS</uf><cep>95960000</cep><cpais>1058</cpais><xpais>BRASIL</xpais><fone>5137511048</fone></enderemit><ie>0370047664</ie><crt>3</crt></emit><dest><cnpj>93209765022943</cnpj><xnome>8534-WMS SUPERMERCADOS DO BRASIL LTDA</xnome><enderdest><xlgr>AV RUBEN BENTO ALVES</xlgr><nro>468</nro><xbairro>SAO JOSE</xbairro><cmun>4305108</cmun><xmun>Caxias do Sul</xmun><uf>RS</uf><cep>95054002</cep><cpais>1058</cpais><xpais>BRASIL</xpais><fone>5429925401</fone></enderdest><indiedest>1</indiedest><ie>0290345561</ie></dest><det nitem=\"1\"><prod><cprod>393</cprod><cean>17898071700161</cean><xprod>APRESUNTADO FAT. 150gr - CX. C/12</xprod><ncm>16024900</ncm><cest>1707905</cest><cbenef>SEM CBENEF</cbenef><cfop>5401</cfop><ucom>CX</ucom><qcom>5.0000</qcom><vuncom>38.8000000000</vuncom><vprod>194.00</vprod><ceantrib>7898071700164</ceantrib><utrib>UN</utrib><qtrib>60.0000</qtrib><vuntrib>3.2333333333</vuntrib><indtot>1</indtot><xped>92152</xped><nitemped>1</nitemped></prod><imposto><icms><icms10><orig>0</orig><cst>10</cst><modbc>3</modbc><vbc>194.00</vbc><picms>18.0000</picms><vicms>34.92</vicms><modbcst>4</modbcst><pmvast>43.2700</pmvast><vbcst>277.94</vbcst><picmsst>18.0000</picmsst><vicmsst>15.11</vicmsst></icms10></icms><ipi><cenq>999</cenq><ipint><cst>51</cst></ipint></ipi><pis><pisaliq><cst>01</cst><vbc>159.08</vbc><ppis>1.6500</ppis><vpis>2.62</vpis></pisaliq></pis><cofins><cofinsaliq><cst>01</cst><vbc>159.08</vbc><pcofins>7.6000</pcofins><vcofins>12.09</vcofins></cofinsaliq></cofins></imposto></det><det nitem=\"2\"><prod><cprod>398</cprod><cean>17898071700215</cean><xprod>APRESUNTADO FAT. 500gr - CX. C/8</xprod><ncm>16024900</ncm><cest>1707905</cest><cbenef>SEM CBENEF</cbenef><cfop>5401</cfop><ucom>CX</ucom><qcom>10.0000</qcom><vuncom>71.5100000000</vuncom><vprod>715.10</vprod><ceantrib>7898071700218</ceantrib><utrib>UN</utrib><qtrib>80.0000</qtrib><vuntrib>8.9387500000</vuntrib><indtot>1</indtot><xped>92152</xped><nitemped>2</nitemped></prod><imposto><icms><icms10><orig>0</orig><cst>10</cst><modbc>3</modbc><vbc>715.10</vbc><picms>18.0000</picms><vicms>128.72</vicms><modbcst>4</modbcst><pmvast>43.2700</pmvast><vbcst>1024.52</vbcst><picmsst>18.0000</picmsst><vicmsst>55.69</vicmsst></icms10></icms><ipi><cenq>999</cenq><ipint><cst>51</cst></ipint></ipi><pis><pisaliq><cst>01</cst><vbc>586.38</vbc><ppis>1.6500</ppis><vpis>9.68</vpis></pisaliq></pis><cofins><cofinsaliq><cst>01</cst><vbc>586.38</vbc><pcofins>7.6000</pcofins><vcofins>44.56</vcofins></cofinsaliq></cofins></imposto></det><det nitem=\"3\"><prod><cprod>480</cprod><cean>27898071701516</cean><xprod>LANCHE FAT. 1kg - CX. C/12</xprod><ncm>16024900</ncm><cest>1707905</cest><cbenef>SEM CBENEF</cbenef><cfop>5401</cfop><ucom>CX</ucom><qcom>5.0000</qcom><vuncom>148.2000000000</vuncom><vprod>741.00</vprod><ceantrib>7898071701512</ceantrib><utrib>UN</utrib><qtrib>60.0000</qtrib><vuntrib>12.3500000000</vuntrib><indtot>1</indtot><xped>92152</xped><nitemped>3</nitemped></prod><imposto><icms><icms10><orig>0</orig><cst>10</cst><modbc>3</modbc><vbc>741.00</vbc><picms>18.0000</picms><vicms>133.38</vicms><modbcst>4</modbcst><pmvast>43.2700</pmvast><vbcst>1061.63</vbcst><picmsst>18.0000</picmsst><vicmsst>57.71</vicmsst></icms10></icms><ipi><cenq>999</cenq><ipint><cst>51</cst></ipint></ipi><pis><pisaliq><cst>01</cst><vbc>607.62</vbc><ppis>1.6500</ppis><vpis>10.03</vpis></pisaliq></pis><cofins><cofinsaliq><cst>01</cst><vbc>607.62</vbc><pcofins>7.6000</pcofins><vcofins>46.18</vcofins></cofinsaliq></cofins></imposto></det><det nitem=\"4\"><prod><cprod>445</cprod><cean>17898071700840</cean><xprod>LINGUICA T. CALABRESA DEF INT. 2,5kg - CX. C/4</xprod><ncm>16010000</ncm><cest>1707700</cest><cbenef>SEM CBENEF</cbenef><cfop>5401</cfop><ucom>CX</ucom><qcom>10.0000</qcom><vuncom>142.8800000000</vuncom><vprod>1428.80</vprod><ceantrib>7898071700843</ceantrib><utrib>UN</utrib><qtrib>40.0000</qtrib><vuntrib>35.7200000000</vuntrib><indtot>1</indtot><xped>92152</xped><nitemped>4</nitemped></prod><imposto><icms><icms10><orig>0</orig><cst>10</cst><modbc>3</modbc><vbc>1428.80</vbc><picms>18.0000</picms><vicms>257.18</vicms><modbcst>4</modbcst><pmvast>40.1800</pmvast><vbcst>2002.89</vbcst><picmsst>18.0000</picmsst><vicmsst>103.34</vicmsst></icms10></icms><ipi><cenq>999</cenq><ipint><cst>51</cst></ipint></ipi><pis><pisaliq><cst>01</cst><vbc>1171.62</vbc><ppis>1.6500</ppis><vpis>19.33</vpis></pisaliq></pis><cofins><cofinsaliq><cst>01</cst><vbc>1171.62</vbc><pcofins>7.6000</pcofins><vcofins>89.04</vcofins></cofinsaliq></cofins></imposto></det><det nitem=\"5\"><prod><cprod>419</cprod><cean>17898071700680</cean><xprod>MORTADELA S/G FAT. 150gr - CX. C/12</xprod><ncm>16010000</ncm><cest>1707800</cest><cbenef>SEM CBENEF</cbenef><cfop>5401</cfop><ucom>CX</ucom><qcom>3.0000</qcom><vuncom>20.9800000000</vuncom><vprod>62.94</vprod><ceantrib>7898071700683</ceantrib><utrib>UN</utrib><qtrib>36.0000</qtrib><vuntrib>1.7483333333</vuntrib><indtot>1</indtot><xped>92152</xped><nitemped>5</nitemped></prod><imposto><icms><icms10><orig>0</orig><cst>10</cst><modbc>3</modbc><vbc>62.94</vbc><picms>18.0000</picms><vicms>11.33</vicms><modbcst>4</modbcst><pmvast>41.5400</pmvast><vbcst>89.09</vbcst><picmsst>18.0000</picmsst><vicmsst>4.71</vicmsst></icms10></icms><ipi><cenq>999</cenq><ipint><cst>51</cst></ipint></ipi><pis><pisaliq><cst>01</cst><vbc>51.61</vbc><ppis>1.6500</ppis><vpis>0.85</vpis></pisaliq></pis><cofins><cofinsaliq><cst>01</cst><vbc>51.61</vbc><pcofins>7.6000</pcofins><vcofins>3.92</vcofins></cofinsaliq></cofins></imposto></det><det nitem=\"6\"><prod><cprod>417</cprod><cean>17898071700901</cean><xprod>MORTADELA DE FRANGO INT. 500gr - CX. C/10</xprod><ncm>16010000</ncm><cest>1707800</cest><cbenef>SEM CBENEF</cbenef><cfop>5401</cfop><ucom>CX</ucom><qcom>5.0000</qcom><vuncom>40.7900000000</vuncom><vprod>203.95</vprod><ceantrib>7898071700904</ceantrib><utrib>UN</utrib><qtrib>50.0000</qtrib><vuntrib>4.0790000000</vuntrib><indtot>1</indtot><xped>92152</xped><nitemped>6</nitemped></prod><imposto><icms><icms10><orig>0</orig><cst>10</cst><modbc>3</modbc><vbc>203.95</vbc><picms>18.0000</picms><vicms>36.71</vicms><modbcst>4</modbcst><pmvast>41.5400</pmvast><vbcst>288.67</vbcst><picmsst>18.0000</picmsst><vicmsst>15.25</vicmsst></icms10></icms><ipi><cenq>999</cenq><ipint><cst>51</cst></ipint></ipi><pis><pisaliq><cst>01</cst><vbc>167.24</vbc><ppis>1.6500</ppis><vpis>2.76</vpis></pisaliq></pis><cofins><cofinsaliq><cst>01</cst><vbc>167.24</vbc><pcofins>7.6000</pcofins><vcofins>12.71</vcofins></cofinsaliq></cofins></imposto></det><det nitem=\"7\"><prod><cprod>468</cprod><cean>17898071701557</cean><xprod>PEITO DE FRANGO EMB. COZ. DEF. FAT. 500gr - CX. C/8</xprod><ncm>16010000</ncm><cest>1707600</cest><cbenef>SEM CBENEF</cbenef><cfop>5401</cfop><ucom>CX</ucom><qcom>5.0000</qcom><vuncom>70.6000000000</vuncom><vprod>353.00</vprod><ceantrib>7898071701550</ceantrib><utrib>UN</utrib><qtrib>40.0000</qtrib><vuntrib>8.8250000000</vuntrib><indtot>1</indtot><xped>92152</xped><nitemped>7</nitemped></prod><imposto><icms><icms10><orig>0</orig><cst>10</cst><modbc>3</modbc><vbc>353.00</vbc><picms>18.0000</picms><vicms>63.54</vicms><modbcst>4</modbcst><pmvast>50.0800</pmvast><vbcst>529.78</vbcst><picmsst>18.0000</picmsst><vicmsst>31.82</vicmsst></icms10></icms><ipi><cenq>999</cenq><ipint><cst>51</cst></ipint></ipi><pis><pisaliq><cst>01</cst><vbc>289.46</vbc><ppis>1.6500</ppis><vpis>4.78</vpis></pisaliq></pis><cofins><cofinsaliq><cst>01</cst><vbc>289.46</vbc><pcofins>7.6000</pcofins><vcofins>22.00</vcofins></cofinsaliq></cofins></imposto></det><det nitem=\"8\"><prod><cprod>463</cprod><cean>17898071701267</cean><xprod>PEITO DE FRANGO EMB. COZ. DEF. FAT. 150gr - CX. C/12</xprod><ncm>16010000</ncm><cest>1707600</cest><cbenef>SEM CBENEF</cbenef><cfop>5401</cfop><ucom>CX</ucom><qcom>5.0000</qcom><vuncom>41.5600000000</vuncom><vprod>207.80</vprod><ceantrib>7898071701260</ceantrib><utrib>UN</utrib><qtrib>60.0000</qtrib><vuntrib>3.4633333333</vuntrib><indtot>1</indtot><xped>92152</xped><nitemped>8</nitemped></prod><imposto><icms><icms10><orig>0</orig><cst>10</cst><modbc>3</modbc><vbc>207.80</vbc><picms>18.0000</picms><vicms>37.40</vicms><modbcst>4</modbcst><pmvast>50.0800</pmvast><vbcst>311.87</vbcst><picmsst>18.0000</picmsst><vicmsst>18.74</vicmsst></icms10></icms><ipi><cenq>999</cenq><ipint><cst>51</cst></ipint></ipi><pis><pisaliq><cst>01</cst><vbc>170.40</vbc><ppis>1.6500</ppis><vpis>2.81</vpis></pisaliq></pis><cofins><cofinsaliq><cst>01</cst><vbc>170.40</vbc><pcofins>7.6000</pcofins><vcofins>12.95</vcofins></cofinsaliq></cofins></imposto></det><det nitem=\"9\"><prod><cprod>451</cprod><cean>17898071701908</cean><xprod>PRESUNTO COZ. S/G FAT. 500gr - CX. C/8</xprod><ncm>16024900</ncm><cest>1707905</cest><cbenef>SEM CBENEF</cbenef><cfop>5401</cfop><ucom>CX</ucom><qcom>10.0000</qcom><vuncom>76.4000000000</vuncom><vprod>764.00</vprod><ceantrib>7898071701901</ceantrib><utrib>UN</utrib><qtrib>80.0000</qtrib><vuntrib>9.5500000000</vuntrib><indtot>1</indtot><xped>92152</xped><nitemped>9</nitemped></prod><imposto><icms><icms10><orig>0</orig><cst>10</cst><modbc>3</modbc><vbc>764.00</vbc><picms>18.0000</picms><vicms>137.52</vicms><modbcst>4</modbcst><pmvast>43.2700</pmvast><vbcst>1094.58</vbcst><picmsst>18.0000</picmsst><vicmsst>59.50</vicmsst></icms10></icms><ipi><cenq>999</cenq><ipint><cst>51</cst></ipint></ipi><pis><pisaliq><cst>01</cst><vbc>626.48</vbc><ppis>1.6500</ppis><vpis>10.34</vpis></pisaliq></pis><cofins><cofinsaliq><cst>01</cst><vbc>626.48</vbc><pcofins>7.6000</pcofins><vcofins>47.61</vcofins></cofinsaliq></cofins></imposto></det><det nitem=\"10\"><prod><cprod>418</cprod><cean>17898071700277</cean><xprod>PRESUNTO COZ. S/G FAT. 150gr - CX. C/12</xprod><ncm>16024900</ncm><cest>1707600</cest><cbenef>SEM CBENEF</cbenef><cfop>5401</cfop><ucom>CX</ucom><qcom>5.0000</qcom><vuncom>42.4000000000</vuncom><vprod>212.00</vprod><ceantrib>7898071700270</ceantrib><utrib>UN</utrib><qtrib>60.0000</qtrib><vuntrib>3.5333333333</vuntrib><indtot>1</indtot><xped>92152</xped><nitemped>10</nitemped></prod><imposto><icms><icms10><orig>0</orig><cst>10</cst><modbc>3</modbc><vbc>212.00</vbc><picms>18.0000</picms><vicms>38.16</vicms><modbcst>4</modbcst><pmvast>43.2700</pmvast><vbcst>303.73</vbcst><picmsst>18.0000</picmsst><vicmsst>16.51</vicmsst></icms10></icms><ipi><cenq>999</cenq><ipint><cst>51</cst></ipint></ipi><pis><pisaliq><cst>01</cst><vbc>173.84</vbc><ppis>1.6500</ppis><vpis>2.87</vpis></pisaliq></pis><cofins><cofinsaliq><cst>01</cst><vbc>173.84</vbc><pcofins>7.6000</pcofins><vcofins>13.21</vcofins></cofinsaliq></cofins></imposto></det><det nitem=\"11\"><prod><cprod>875</cprod><cean>17898071700147</cean><xprod>QUEIJO RALADO 50gr - CX.C/20 (1KG)</xprod><ncm>04062000</ncm><cest>1702400</cest><cfop>5102</cfop><ucom>CX</ucom><qcom>5.0000</qcom><vuncom>47.0000000000</vuncom><vprod>235.00</vprod><ceantrib>7898071700140</ceantrib><utrib>UN</utrib><qtrib>100.0000</qtrib><vuntrib>2.3500000000</vuntrib><indtot>1</indtot><xped>92152</xped><nitemped>11</nitemped></prod><imposto><icms><icms00><orig>0</orig><cst>00</cst><modbc>3</modbc><vbc>235.00</vbc><picms>18.0000</picms><vicms>42.30</vicms></icms00></icms><pis><pisnt><cst>06</cst></pisnt></pis><cofins><cofinsnt><cst>06</cst></cofinsnt></cofins></imposto></det><det nitem=\"12\"><prod><cprod>476</cprod><cean>17898071701458</cean><xprod>SALSICHA RESF. 14CM 2kg - CX. C/4</xprod><ncm>16010000</ncm><cest>1707700</cest><cbenef>SEM CBENEF</cbenef><cfop>5401</cfop><ucom>CX</ucom><qcom>30.0000</qcom><vuncom>48.9700000000</vuncom><vprod>1469.10</vprod><ceantrib>7898071701451</ceantrib><utrib>KG</utrib><qtrib>240.0000</qtrib><vuntrib>6.1212500000</vuntrib><indtot>1</indtot><xped>92152</xped><nitemped>12</nitemped></prod><imposto><icms><icms10><orig>0</orig><cst>10</cst><modbc>3</modbc><vbc>1469.10</vbc><picms>18.0000</picms><vicms>264.44</vicms><modbcst>4</modbcst><pmvast>40.1800</pmvast><vbcst>2059.38</vbcst><picmsst>18.0000</picmsst><vicmsst>106.25</vicmsst></icms10></icms><ipi><cenq>999</cenq><ipint><cst>51</cst></ipint></ipi><pis><pisaliq><cst>01</cst><vbc>1204.66</vbc><ppis>1.6500</ppis><vpis>19.88</vpis></pisaliq></pis><cofins><cofinsaliq><cst>01</cst><vbc>1204.66</vbc><pcofins>7.6000</pcofins><vcofins>91.55</vcofins></cofinsaliq></cofins></imposto></det><det nitem=\"13\"><prod><cprod>477</cprod><cean>17898071701465</cean><xprod>SALSICHA RESF. 19CM 2kg - CX. C/4</xprod><ncm>16010000</ncm><cest>1707700</cest><cbenef>SEM CBENEF</cbenef><cfop>5401</cfop><ucom>CX</ucom><qcom>60.0000</qcom><vuncom>48.9700000000</vuncom><vprod>2938.20</vprod><ceantrib>7898071701468</ceantrib><utrib>KG</utrib><qtrib>480.0000</qtrib><vuntrib>6.1212500000</vuntrib><indtot>1</indtot><xped>92152</xped><nitemped>13</nitemped></prod><imposto><icms><icms10><orig>0</orig><cst>10</cst><modbc>3</modbc><vbc>2938.20</vbc><picms>18.0000</picms><vicms>528.88</vicms><modbcst>4</modbcst><pmvast>40.1800</pmvast><vbcst>4118.77</vbcst><picmsst>18.0000</picmsst><vicmsst>212.50</vicmsst></icms10></icms><ipi><cenq>999</cenq><ipint><cst>51</cst></ipint></ipi><pis><pisaliq><cst>01</cst><vbc>2409.32</vbc><ppis>1.6500</ppis><vpis>39.75</vpis></pisaliq></pis><cofins><cofinsaliq><cst>01</cst><vbc>2409.32</vbc><pcofins>7.6000</pcofins><vcofins>183.11</vcofins></cofinsaliq></cofins></imposto></det><det nitem=\"14\"><prod><cprod>473</cprod><cean>17898071700260</cean><xprod>SALSICHA RESF. AUTO SERV. 360gr - CX. C/14</xprod><ncm>16010000</ncm><cest>1707700</cest><cbenef>SEM CBENEF</cbenef><cfop>5401</cfop><ucom>CX</ucom><qcom>5.0000</qcom><vuncom>47.4000000000</vuncom><vprod>237.00</vprod><ceantrib>7898071700263</ceantrib><utrib>UN</utrib><qtrib>70.0000</qtrib><vuntrib>3.3857142857</vuntrib><indtot>1</indtot><xped>92152</xped><nitemped>14</nitemped></prod><imposto><icms><icms10><orig>0</orig><cst>10</cst><modbc>3</modbc><vbc>237.00</vbc><picms>18.0000</picms><vicms>42.66</vicms><modbcst>4</modbcst><pmvast>40.1800</pmvast><vbcst>332.23</vbcst><picmsst>18.0000</picmsst><vicmsst>17.14</vicmsst></icms10></icms><ipi><cenq>999</cenq><ipint><cst>51</cst></ipint></ipi><pis><pisaliq><cst>01</cst><vbc>194.34</vbc><ppis>1.6500</ppis><vpis>3.21</vpis></pisaliq></pis><cofins><cofinsaliq><cst>01</cst><vbc>194.34</vbc><pcofins>7.6000</pcofins><vcofins>14.77</vcofins></cofinsaliq></cofins></imposto></det><total><icmstot><vbc>9761.89</vbc><vicms>1757.14</vicms><vicmsdeson>0.00</vicmsdeson><vfcp>0.00</vfcp><vbcst>13495.08</vbcst><vst>714.27</vst><vfcpst>0.00</vfcpst><vfcpstret>0.00</vfcpstret><vprod>9761.89</vprod><vfrete>0.00</vfrete><vseg>0.00</vseg><vdesc>0.00</vdesc><vii>0.00</vii><vipi>0.00</vipi><vipidevol>0.00</vipidevol><vpis>128.91</vpis><vcofins>593.70</vcofins><voutro>0.00</voutro><vnf>10476.16</vnf></icmstot></total><transp><modfrete>0</modfrete><transporta><cnpj>05411711000172</cnpj><xnome>KUHN TRANSPORTADORA LTDA</xnome><ie>0240450329</ie><xender>RUA TAMOIO 1089 LOJA 01</xender><xmun>Canoas</xmun><uf>RS</uf></transporta><vol><qvol>163</qvol><esp>Volume(s)</esp><pesol>1067.600</pesol><pesob>1067.600</pesob></vol></transp><cobr><fat><nfat>113488/1</nfat><vorig>10476.16</vorig><vdesc>0.00</vdesc><vliq>10476.16</vliq></fat><dup><ndup>001</ndup><dvenc>2021-01-26</dvenc><vdup>10476.16</vdup></dup></cobr><pag><detpag><indpag>1</indpag><tpag>01</tpag><vpag>10476.16</vpag></detpag></pag><infadic><infcpl>--&gt; OC Cliente: 92152;--&gt; Nome Fantasia: WAL-MART BRASIL;--&gt; Agente de Vendas: CANAL REDES - KEY ACCOUNT (51)37511048;;--&gt; Pedido de Venda: 64880;;Conforme Art. 27 Livro III RICMS/ RS Prod:393 B:277,94 ST:15,11 Prod:398 B:1.024,52 ST:55,69 Prod:480 B:1.061,63 ST:57,71 Prod:445 B:2.002,89 ST:103,34 Prod:419 B:89,09 ST:4,71 Prod:417 B:288,67 ST:15,25 Prod:468 B:529,78 ST:31,82 Prod:463 B:311,87 ST:18,74 Prod:451 B:1.094,58 ST:59,50 Prod:418 B:303,73 ST:16,51 Prod:476 B:2.059,38 ST:106,25 Prod:477 B:4.118,77 ST:212,50 Prod:473 B:332,23 ST:17,14</infcpl></infadic></infnfe><signature xmlns=\"http://www.w3.org/2000/09/xmldsig#\"><signedinfo><canonicalizationmethod algorithm=\"http://www.w3.org/TR/2001/REC-xml-c14n-20010315\"></canonicalizationmethod><signaturemethod algorithm=\"http://www.w3.org/2000/09/xmldsig#rsa-sha1\"></signaturemethod><reference uri=\"#NFe43201200218077000990550010001134881772699658\"><transforms><transform algorithm=\"http://www.w3.org/2000/09/xmldsig#enveloped-signature\"></transform><transform algorithm=\"http://www.w3.org/TR/2001/REC-xml-c14n-20010315\"></transform></transforms><digestmethod algorithm=\"http://www.w3.org/2000/09/xmldsig#sha1\"></digestmethod><digestvalue>2qxBEn4vkf7RVcB1i1VJKbf1MyU=</digestvalue></reference></signedinfo><signaturevalue>hum2dKjBhMCvwUsrLPUWnbRx43J3S2hC2+X4jYA7swgcBABrQ6px04CSmz7it20yEGYdWApQw2UYlfZolWljaJmXg8OpixLkzlPJBCUFxpF6F6LasjtoM9QzppRJxGNLwi6b0vdpV5gb1uSuW5J5TfweWqSctLx7KKGxFpxrpIIorU+lkDCwgcJEiI37U+iXqEjPOaaovrEc5L3F5pL6QiJ4Ti7HSUtSIwMnsPVroiP3qpKSOLw5DMvqjp/feYvBLMTJZ76wAGvnJAPylTQQNbCXWifkd9zceXp1cRrkP6KLULm84i41s4VfccwX/VQc1sHmqOFcxWUq3F+yl9jb6Q==</signaturevalue><keyinfo><x509data><x509certificate>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</x509certificate></x509data></keyinfo></signature></nfe><protnfe versao=\"4.00\"><infprot><tpamb>1</tpamb><veraplic>RS202012070756</veraplic><chnfe>43201200218077000990550010001134881772699658</chnfe><dhrecbto>2020-12-11T17:26:08-03:00</dhrecbto><nprot>143200231308030</nprot><digval>2qxBEn4vkf7RVcB1i1VJKbf1MyU=</digval><cstat>100</cstat><xmotivo>Autorizado o uso da NF-e</xmotivo></infprot></protnfe></nfeproc></body></html>"
      ]
     },
     "execution_count": 6,
     "metadata": {},
     "output_type": "execute_result"
    }
   ],
   "source": [
    "bs_content"
   ]
  },
  {
   "cell_type": "code",
   "execution_count": 29,
   "metadata": {},
   "outputs": [
    {
     "name": "stdout",
     "output_type": "stream",
     "text": [
      "00218077000990 QUINTA DO VALE ALIMENTOS LTDA - FL08\n",
      "93209765022943 8534-WMS SUPERMERCADOS DO BRASIL LTDA\n",
      "10476.16\n"
     ]
    }
   ],
   "source": [
    "print(bs_content.find('emit').find('cnpj').text, bs_content.find('emit').find('xnome').text)\n",
    "print(bs_content.find('dest').find('cnpj').text, bs_content.find('dest').find('xnome').text)\n",
    "print(bs_content.find('cobr').find('fat').find('vorig').text)"
   ]
  },
  {
   "cell_type": "code",
   "execution_count": 47,
   "metadata": {},
   "outputs": [
    {
     "name": "stdout",
     "output_type": "stream",
     "text": [
      "O cnpj 00218077000990, com o nome QUINTA DO VALE ALIMENTOS LTDA - FL08, emitiu a nota de id=NFe43201200218077000990550010001134881772699658 para o CNPJ 93209765022943, com o nome 8534-WMS SUPERMERCADOS DO BRASIL LTDA, no valor de: 10476.16\n"
     ]
    }
   ],
   "source": [
    "emit = bs_content.find('emit')\n",
    "emit_cnpj = emit.find('cnpj').text\n",
    "emit_nome = emit.find('xnome').text\n",
    "\n",
    "dest = bs_content.find('dest')\n",
    "dest_cnpj = dest.find('cnpj').text\n",
    "dest_nome = dest.find('xnome').text\n",
    "\n",
    "nfe_id = bs_content.find('infnfe')['id']\n",
    "\n",
    "cobr_fat_vorig = bs_content.find('cobr').find('fat').find('vorig').text\n",
    "\n",
    "print('O cnpj {}, com o nome {}, emitiu a nota de id={} para o CNPJ {}, com o nome {}, no valor de: {}'.format(emit_cnpj, emit_nome, nfe_id,dest_cnpj, dest_nome, cobr_fat_vorig))"
   ]
  },
  {
   "cell_type": "code",
   "execution_count": 45,
   "metadata": {},
   "outputs": [
    {
     "ename": "AttributeError",
     "evalue": "'str' object has no attribute 'text'",
     "output_type": "error",
     "traceback": [
      "\u001b[0;31m---------------------------------------------------------------------------\u001b[0m",
      "\u001b[0;31mAttributeError\u001b[0m                            Traceback (most recent call last)",
      "\u001b[0;32m<ipython-input-45-68e0afde2d34>\u001b[0m in \u001b[0;36m<module>\u001b[0;34m\u001b[0m\n\u001b[0;32m----> 1\u001b[0;31m \u001b[0mbs_content\u001b[0m\u001b[0;34m.\u001b[0m\u001b[0mfind\u001b[0m\u001b[0;34m(\u001b[0m\u001b[0;34m'infnfe'\u001b[0m\u001b[0;34m)\u001b[0m\u001b[0;34m[\u001b[0m\u001b[0;34m'id'\u001b[0m\u001b[0;34m]\u001b[0m\u001b[0;34m.\u001b[0m\u001b[0mtext\u001b[0m\u001b[0;34m\u001b[0m\u001b[0;34m\u001b[0m\u001b[0m\n\u001b[0m",
      "\u001b[0;31mAttributeError\u001b[0m: 'str' object has no attribute 'text'"
     ]
    }
   ],
   "source": []
  },
  {
   "cell_type": "code",
   "execution_count": null,
   "metadata": {},
   "outputs": [],
   "source": []
  },
  {
   "cell_type": "code",
   "execution_count": null,
   "metadata": {},
   "outputs": [],
   "source": []
  },
  {
   "cell_type": "code",
   "execution_count": null,
   "metadata": {},
   "outputs": [],
   "source": []
  },
  {
   "cell_type": "code",
   "execution_count": null,
   "metadata": {},
   "outputs": [],
   "source": []
  }
 ],
 "metadata": {
  "kernelspec": {
   "display_name": "Python 3",
   "language": "python",
   "name": "python3"
  },
  "language_info": {
   "codemirror_mode": {
    "name": "ipython",
    "version": 3
   },
   "file_extension": ".py",
   "mimetype": "text/x-python",
   "name": "python",
   "nbconvert_exporter": "python",
   "pygments_lexer": "ipython3",
   "version": "3.7.6"
  }
 },
 "nbformat": 4,
 "nbformat_minor": 4
}
