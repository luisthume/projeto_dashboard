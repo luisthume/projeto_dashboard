{
 "cells": [
  {
   "cell_type": "code",
   "execution_count": 15,
   "metadata": {},
   "outputs": [],
   "source": [
    "import bs4\n",
    "import lxml\n",
    "from bs4 import BeautifulSoup as bs\n",
    "from django.utils import dateparse"
   ]
  },
  {
   "cell_type": "code",
   "execution_count": 28,
   "metadata": {},
   "outputs": [],
   "source": [
    "arquivo = '5ff4b32f59f13_52201217048826000123550010000026801007310676.xml'"
   ]
  },
  {
   "cell_type": "code",
   "execution_count": 29,
   "metadata": {},
   "outputs": [],
   "source": [
    "content = []\n",
    "# Read the XML file\n",
    "with open(arquivo, \"r\") as file:\n",
    "    # Read each line in the file, readlines() returns a list of lines\n",
    "    content = file.readlines()\n",
    "    # Combine the lines in the list into a string\n",
    "    content = \"\".join(content)\n",
    "    bs_content = bs(content, \"lxml\")"
   ]
  },
  {
   "cell_type": "code",
   "execution_count": 30,
   "metadata": {
    "scrolled": true
   },
   "outputs": [
    {
     "data": {
      "text/plain": [
       "<?xml version=\"1.0\" encoding=\"UTF-8\"?><html><body><nfeproc versao=\"4.00\" xmlns=\"http://www.portalfiscal.inf.br/nfe\"><nfe xmlns=\"http://www.portalfiscal.inf.br/nfe\"><infnfe id=\"NFe52201217048826000123550010000026801007310676\" versao=\"4.00\"><ide><cuf>52</cuf><cnf>00731067</cnf><natop>VENDA DE MERCADORIA</natop><mod>55</mod><serie>1</serie><nnf>2680</nnf><dhemi>2020-12-17T10:19:52-02:00</dhemi><dhsaient>2020-12-17T10:19:52-02:00</dhsaient><tpnf>1</tpnf><iddest>1</iddest><cmunfg>5208707</cmunfg><tpimp>1</tpimp><tpemis>1</tpemis><cdv>6</cdv><tpamb>1</tpamb><finnfe>1</finnfe><indfinal>1</indfinal><indpres>9</indpres><procemi>0</procemi><verproc>1.0.0.2</verproc></ide><emit><cnpj>17048826000123</cnpj><xnome>ATELIE MATERIAIS PARA CONSTRUCAO EIRELI - EPP</xnome><xfant>ATELIE MATERIAIS PARA CONSTRUCAO</xfant><enderemit><xlgr>RUA COSTA PARANHOS</xlgr><nro>SN</nro><xcpl>QD 5 LT 1/2</xcpl><xbairro>PARQUE DAS AMENDOEIRAS</xbairro><cmun>5208707</cmun><xmun>GOIaNIA</xmun><uf>GO</uf><cep>74780430</cep><cpais>1058</cpais><xpais>BRASIL</xpais><fone>6232022332</fone></enderemit><ie>105483184</ie><im>28910397</im><cnae>2330399</cnae><crt>1</crt></emit><dest><cnpj>11951538000106</cnpj><xnome>BRJ ASSESORIA</xnome><enderdest><xlgr>R C 214</xlgr><nro>278</nro><xcpl>QD. 508 LT. 14 CASA 1 SALA 5</xcpl><xbairro>JARDIM AMERICA</xbairro><cmun>5208707</cmun><xmun>GOIANIA</xmun><uf>GO</uf><cep>74270270</cep><cpais>1058</cpais><xpais>BRASIL</xpais></enderdest><indiedest>9</indiedest></dest><det nitem=\"1\"><prod><cprod>57139</cprod><cean>7895316231926</cean><xprod>LIXA MASSA 150 - NORTON</xprod><ncm>68051000</ncm><cfop>5102</cfop><ucom>UN</ucom><qcom>200.0000</qcom><vuncom>1.5000000000</vuncom><vprod>300.00</vprod><ceantrib>7895316231926</ceantrib><utrib>UN</utrib><qtrib>200.0000</qtrib><vuntrib>1.5000000000</vuntrib><indtot>1</indtot><xped>0</xped></prod><imposto><icms><icmssn102><orig>0</orig><csosn>102</csosn></icmssn102></icms><pis><pisaliq><cst>01</cst><vbc>0.00</vbc><ppis>0.0000</ppis><vpis>0.00</vpis></pisaliq></pis><cofins><cofinsaliq><cst>01</cst><vbc>0.00</vbc><pcofins>0.0000</pcofins><vcofins>0.00</vcofins></cofinsaliq></cofins></imposto><infadprod>Marca - NORTON</infadprod></det><det nitem=\"2\"><prod><cprod>280628</cprod><cean>SEM GTIN</cean><xprod>LIXA MASSA 180 - NORTON</xprod><ncm>68052000</ncm><cfop>5102</cfop><ucom>UN</ucom><qcom>200.0000</qcom><vuncom>1.5000000000</vuncom><vprod>300.00</vprod><ceantrib>SEM GTIN</ceantrib><utrib>UN</utrib><qtrib>200.0000</qtrib><vuntrib>1.5000000000</vuntrib><indtot>1</indtot><xped>0</xped></prod><imposto><icms><icmssn102><orig>0</orig><csosn>102</csosn></icmssn102></icms><pis><pisaliq><cst>01</cst><vbc>0.00</vbc><ppis>0.0000</ppis><vpis>0.00</vpis></pisaliq></pis><cofins><cofinsaliq><cst>01</cst><vbc>0.00</vbc><pcofins>0.0000</pcofins><vcofins>0.00</vcofins></cofinsaliq></cofins></imposto><infadprod>Marca - CONDOR</infadprod></det><det nitem=\"3\"><prod><cprod>95491</cprod><cean>7895316231919</cean><xprod>LIXA MASSA 120 NORTON</xprod><ncm>68052000</ncm><cfop>5102</cfop><ucom>PC</ucom><qcom>200.0000</qcom><vuncom>1.5000000000</vuncom><vprod>300.00</vprod><ceantrib>7895316231919</ceantrib><utrib>PC</utrib><qtrib>200.0000</qtrib><vuntrib>1.5000000000</vuntrib><indtot>1</indtot><xped>0</xped></prod><imposto><icms><icmssn102><orig>0</orig><csosn>102</csosn></icmssn102></icms><pis><pisaliq><cst>01</cst><vbc>0.00</vbc><ppis>0.0000</ppis><vpis>0.00</vpis></pisaliq></pis><cofins><cofinsaliq><cst>01</cst><vbc>0.00</vbc><pcofins>0.0000</pcofins><vcofins>0.00</vcofins></cofinsaliq></cofins></imposto><infadprod>Marca - NORTON</infadprod></det><det nitem=\"4\"><prod><cprod>286038</cprod><cean>SEM GTIN</cean><xprod>DISCO FLAP RETO 4.1/2\" G 80 DIS-FLEX</xprod><ncm>68053090</ncm><cfop>5102</cfop><ucom>UN</ucom><qcom>70.0000</qcom><vuncom>9.9000000000</vuncom><vprod>693.00</vprod><ceantrib>SEM GTIN</ceantrib><utrib>UN</utrib><qtrib>70.0000</qtrib><vuntrib>9.9000000000</vuntrib><indtot>1</indtot><xped>0</xped></prod><imposto><icms><icmssn102><orig>0</orig><csosn>102</csosn></icmssn102></icms><pis><pisaliq><cst>01</cst><vbc>0.00</vbc><ppis>0.0000</ppis><vpis>0.00</vpis></pisaliq></pis><cofins><cofinsaliq><cst>01</cst><vbc>0.00</vbc><pcofins>0.0000</pcofins><vcofins>0.00</vcofins></cofinsaliq></cofins></imposto><infadprod>Marca - DIS-FLEX</infadprod></det><det nitem=\"5\"><prod><cprod>286037</cprod><cean>SEM GTIN</cean><xprod>DISCO FLAP RETO 4.1/2\" G 60 DIS-FLEX</xprod><ncm>68053090</ncm><cfop>5102</cfop><ucom>UN</ucom><qcom>70.0000</qcom><vuncom>9.9000000000</vuncom><vprod>693.00</vprod><ceantrib>SEM GTIN</ceantrib><utrib>UN</utrib><qtrib>70.0000</qtrib><vuntrib>9.9000000000</vuntrib><indtot>1</indtot><xped>0</xped></prod><imposto><icms><icmssn102><orig>0</orig><csosn>102</csosn></icmssn102></icms><pis><pisaliq><cst>01</cst><vbc>0.00</vbc><ppis>0.0000</ppis><vpis>0.00</vpis></pisaliq></pis><cofins><cofinsaliq><cst>01</cst><vbc>0.00</vbc><pcofins>0.0000</pcofins><vcofins>0.00</vcofins></cofinsaliq></cofins></imposto><infadprod>Marca - DIS-FLEX</infadprod></det><det nitem=\"6\"><prod><cprod>103054</cprod><cean>9003173203187</cean><xprod>DISCO FLAP RETO 4.1/2\" G40 TYROLIT</xprod><ncm>68053090</ncm><cfop>5102</cfop><ucom>UN</ucom><qcom>70.0000</qcom><vuncom>9.9000000000</vuncom><vprod>693.00</vprod><ceantrib>9003173203187</ceantrib><utrib>UN</utrib><qtrib>70.0000</qtrib><vuntrib>9.9000000000</vuntrib><indtot>1</indtot><xped>0</xped></prod><imposto><icms><icmssn102><orig>0</orig><csosn>102</csosn></icmssn102></icms><pis><pisaliq><cst>01</cst><vbc>0.00</vbc><ppis>0.0000</ppis><vpis>0.00</vpis></pisaliq></pis><cofins><cofinsaliq><cst>01</cst><vbc>0.00</vbc><pcofins>0.0000</pcofins><vcofins>0.00</vcofins></cofinsaliq></cofins></imposto><infadprod>Marca - TYROLIT</infadprod></det><det nitem=\"7\"><prod><cprod>58088</cprod><cean>7896380150113</cean><xprod>ROLO DE LA 23 CM ANTI-GOTA 321/10 ATLAS</xprod><ncm>96034010</ncm><cfop>5102</cfop><ucom>PC</ucom><qcom>28.0000</qcom><vuncom>26.9000000000</vuncom><vprod>753.20</vprod><ceantrib>7896380150113</ceantrib><utrib>PC</utrib><qtrib>28.0000</qtrib><vuntrib>26.9000000000</vuntrib><indtot>1</indtot><xped>0</xped></prod><imposto><icms><icmssn102><orig>0</orig><csosn>102</csosn></icmssn102></icms><pis><pisaliq><cst>01</cst><vbc>0.00</vbc><ppis>0.0000</ppis><vpis>0.00</vpis></pisaliq></pis><cofins><cofinsaliq><cst>01</cst><vbc>0.00</vbc><pcofins>0.0000</pcofins><vcofins>0.00</vcofins></cofinsaliq></cofins></imposto><infadprod>Marca - ATLAS</infadprod></det><det nitem=\"8\"><prod><cprod>58082</cprod><cean>7896380150182</cean><xprod>ROLO ATLAS DE PELE EXTRA 23CM</xprod><ncm>96034010</ncm><cfop>5102</cfop><ucom>UN</ucom><qcom>26.0000</qcom><vuncom>59.9000000000</vuncom><vprod>1557.40</vprod><ceantrib>7896380150182</ceantrib><utrib>UN</utrib><qtrib>26.0000</qtrib><vuntrib>59.9000000000</vuntrib><indtot>1</indtot><xped>0</xped></prod><imposto><icms><icmssn102><orig>0</orig><csosn>102</csosn></icmssn102></icms><pis><pisaliq><cst>01</cst><vbc>0.00</vbc><ppis>0.0000</ppis><vpis>0.00</vpis></pisaliq></pis><cofins><cofinsaliq><cst>01</cst><vbc>0.00</vbc><pcofins>0.0000</pcofins><vcofins>0.00</vcofins></cofinsaliq></cofins></imposto><infadprod>Marca - CROISIERE</infadprod></det><det nitem=\"9\"><prod><cprod>58375</cprod><cean>7899000515033</cean><xprod>THINNER DE USO GERAL 18 LT BEMASOLV</xprod><ncm>38140090</ncm><cfop>5102</cfop><ucom>UN</ucom><qcom>13.0000</qcom><vuncom>249.9000000000</vuncom><vprod>3248.70</vprod><ceantrib>7899000515033</ceantrib><utrib>UN</utrib><qtrib>13.0000</qtrib><vuntrib>249.9000000000</vuntrib><indtot>1</indtot><xped>0</xped></prod><imposto><icms><icmssn102><orig>0</orig><csosn>102</csosn></icmssn102></icms><pis><pisaliq><cst>01</cst><vbc>0.00</vbc><ppis>0.0000</ppis><vpis>0.00</vpis></pisaliq></pis><cofins><cofinsaliq><cst>01</cst><vbc>0.00</vbc><pcofins>0.0000</pcofins><vcofins>0.00</vcofins></cofinsaliq></cofins></imposto><infadprod>Marca - CROISIERE</infadprod></det><det nitem=\"10\"><prod><cprod>497977</cprod><cean>7894979779974</cean><xprod>TINTA P/ DEMARCACAO DE FAIXA COR AMARELA</xprod><ncm>32089010</ncm><cfop>5102</cfop><ucom>UN</ucom><qcom>20.0000</qcom><vuncom>499.9000000000</vuncom><vprod>9998.00</vprod><ceantrib>7894979779974</ceantrib><utrib>UN</utrib><qtrib>20.0000</qtrib><vuntrib>499.9000000000</vuntrib><indtot>1</indtot><xped>0</xped></prod><imposto><icms><icmssn102><orig>0</orig><csosn>102</csosn></icmssn102></icms><pis><pisaliq><cst>01</cst><vbc>0.00</vbc><ppis>0.0000</ppis><vpis>0.00</vpis></pisaliq></pis><cofins><cofinsaliq><cst>01</cst><vbc>0.00</vbc><pcofins>0.0000</pcofins><vcofins>0.00</vcofins></cofinsaliq></cofins></imposto><infadprod>Marca - BEMA</infadprod></det><det nitem=\"11\"><prod><cprod>352608</cprod><cean>7352608773316</cean><xprod>ESMALTE SINTETICO IMOBILIARIO AMARELO OURO</xprod><ncm>32081010</ncm><cfop>5102</cfop><ucom>GL</ucom><qcom>250.0000</qcom><vuncom>189.9000000000</vuncom><vprod>47475.00</vprod><ceantrib>7352608773316</ceantrib><utrib>GL</utrib><qtrib>250.0000</qtrib><vuntrib>189.9000000000</vuntrib><indtot>1</indtot><xped>0</xped></prod><imposto><icms><icmssn102><orig>0</orig><csosn>102</csosn></icmssn102></icms><pis><pisaliq><cst>01</cst><vbc>0.00</vbc><ppis>0.0000</ppis><vpis>0.00</vpis></pisaliq></pis><cofins><cofinsaliq><cst>01</cst><vbc>0.00</vbc><pcofins>0.0000</pcofins><vcofins>0.00</vcofins></cofinsaliq></cofins></imposto><infadprod>Marca - IPE</infadprod></det><total><icmstot><vbc>0.00</vbc><vicms>0.00</vicms><vicmsdeson>0.00</vicmsdeson><vfcp>0.00</vfcp><vbcst>0.00</vbcst><vst>0.00</vst><vfcpst>0.00</vfcpst><vfcpstret>0.00</vfcpstret><vprod>66011.30</vprod><vfrete>0.00</vfrete><vseg>0.00</vseg><vdesc>0.00</vdesc><vii>0.00</vii><vipi>0.00</vipi><vipidevol>0.00</vipidevol><vpis>0.00</vpis><vcofins>0.00</vcofins><voutro>0.00</voutro><vnf>66011.30</vnf></icmstot></total><transp><modfrete>0</modfrete><vol><qvol>0</qvol></vol></transp><cobr><fat><nfat>731067</nfat><vorig>66011.30</vorig><vdesc>0.00</vdesc><vliq>66011.30</vliq></fat><dup><ndup>2681</ndup><dvenc>2021-01-18</dvenc><vdup>16502.84</vdup></dup><dup><ndup>2682</ndup><dvenc>2021-02-18</dvenc><vdup>16502.82</vdup></dup><dup><ndup>2683</ndup><dvenc>2021-03-18</dvenc><vdup>16502.82</vdup></dup><dup><ndup>2684</ndup><dvenc>2021-04-18</dvenc><vdup>16502.82</vdup></dup></cobr><pag><detpag><indpag>1</indpag><tpag>15</tpag><vpag>66011.30</vpag></detpag></pag><infadic><infcpl>EMPRESA OPTANTE PELO SIMPLES NACIONAL LEI 123/2006 NAO INCIDENCIA DE ICMS CONFORME ARTIGO 79 Valor Aproximado dos Impostos, R$ 21.783,73 (33%), Fonte IBPT. ;MATERIAL RETIRADO EM CD.;MATERIAL A SER UTILIZADO EM PINTURA DE ESTEIRAS ROLANTES;NA EMPRESA SYNGENTA SEEDS - UNIDADE FORMOSA GOIAS.;RESPONSAVEL PELO RECEBIMENTO/AQUISICAO: JOSE GOMES (62) 9 9221-5423;CONDICAO DE PAGAMENTO: 30 60 90 120 DD BB.;;Vendedor: MAYARA VITOR DA SILVA</infcpl></infadic></infnfe><signature xmlns=\"http://www.w3.org/2000/09/xmldsig#\"><signedinfo><canonicalizationmethod algorithm=\"http://www.w3.org/TR/2001/REC-xml-c14n-20010315\"></canonicalizationmethod><signaturemethod algorithm=\"http://www.w3.org/2000/09/xmldsig#rsa-sha1\"></signaturemethod><reference uri=\"#NFe52201217048826000123550010000026801007310676\"><transforms><transform algorithm=\"http://www.w3.org/2000/09/xmldsig#enveloped-signature\"></transform><transform algorithm=\"http://www.w3.org/TR/2001/REC-xml-c14n-20010315\"></transform></transforms><digestmethod algorithm=\"http://www.w3.org/2000/09/xmldsig#sha1\"></digestmethod><digestvalue>JGJvGiYWWXlidle5xaTeWIom4ng=</digestvalue></reference></signedinfo><signaturevalue>BUgvt3hZfPd5cLX9g7kD2tJoF054nvjKXfccLQm59BhurySBu/kwxh+Ba6LlHoVB2frHCQ/+MZeJe9RJJWtJe+u1lU6SBcko7z0X7M60Z8G8okse8g0tRbW4hq8ai926qaX8Npv18onSN+2hWqtdmcT3Mr2DfzXbOeXRG+gWBAzQyu4zNXbvjqYTiGuZpe556Cu6zHHH0C82MwY0uT9J9Viw5JS4UG25qoGoNax1LP6JjOnLTOzHD1a+PnZImxY5l/gz86nf8HhV2ve16O9YTxLUTmbl8Lc/cGsohk+lDIQ7YX0FUWinSmYd/98Mko4A7OZdoXRKv9uWMcSgv/Rbmg==</signaturevalue><keyinfo><x509data><x509certificate>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</x509certificate></x509data></keyinfo></signature></nfe><protnfe versao=\"4.00\"><infprot id=\"NFe00\"><tpamb>1</tpamb><veraplic>GO4.0</veraplic><chnfe>52201217048826000123550010000026801007310676</chnfe><dhrecbto>2020-12-17T09:20:17-03:00</dhrecbto><nprot>152203666054202</nprot><digval>JGJvGiYWWXlidle5xaTeWIom4ng=</digval><cstat>100</cstat><xmotivo>Autorizado o uso da NF-e</xmotivo></infprot></protnfe></nfeproc></body></html>"
      ]
     },
     "execution_count": 30,
     "metadata": {},
     "output_type": "execute_result"
    }
   ],
   "source": [
    "bs_content"
   ]
  },
  {
   "cell_type": "code",
   "execution_count": 46,
   "metadata": {},
   "outputs": [
    {
     "name": "stdout",
     "output_type": "stream",
     "text": [
      "17048826000123 ATELIE MATERIAIS PARA CONSTRUCAO EIRELI - EPP\n",
      "11951538000106 BRJ ASSESORIA\n",
      "66011.30\n"
     ]
    },
    {
     "data": {
      "text/plain": [
       "[68051000,\n",
       " 68052000,\n",
       " 68052000,\n",
       " 68053090,\n",
       " 68053090,\n",
       " 68053090,\n",
       " 96034010,\n",
       " 96034010,\n",
       " 38140090,\n",
       " 32089010,\n",
       " 32081010]"
      ]
     },
     "execution_count": 46,
     "metadata": {},
     "output_type": "execute_result"
    }
   ],
   "source": [
    "print(bs_content.find('emit').find('cnpj').text, bs_content.find('emit').find('xnome').text)\n",
    "print(bs_content.find('dest').find('cnpj').text, bs_content.find('dest').find('xnome').text)\n",
    "print(bs_content.find('cobr').find('fat').find('vorig').text)\n",
    "#print(bs_content.find('cobr').find('dup'))\n",
    "#print(bs_content.find_all('ncm'))\n",
    "[int(i.text) for i in bs_content.find_all('ncm')]\n",
    "#print(bs_content.find('emit').find('cnae').text)"
   ]
  },
  {
   "cell_type": "code",
   "execution_count": 23,
   "metadata": {},
   "outputs": [],
   "source": [
    "venc_dates = [i.find('dvenc').text.split('-') for i in bs_content.find('cobr').find_all('dup')]"
   ]
  },
  {
   "cell_type": "code",
   "execution_count": 24,
   "metadata": {},
   "outputs": [
    {
     "data": {
      "text/plain": [
       "[datetime.datetime(2019, 10, 4, 0, 0),\n",
       " datetime.datetime(2019, 10, 19, 0, 0),\n",
       " datetime.datetime(2019, 11, 3, 0, 0)]"
      ]
     },
     "execution_count": 24,
     "metadata": {},
     "output_type": "execute_result"
    }
   ],
   "source": [
    "import datetime\n",
    "[datetime.datetime(int(i[0]), int(i[1]), int(i[2])) for i in venc_dates]"
   ]
  },
  {
   "cell_type": "code",
   "execution_count": 36,
   "metadata": {},
   "outputs": [
    {
     "data": {
      "text/plain": [
       "datetime.datetime(2019, 10, 4, 0, 0)"
      ]
     },
     "execution_count": 36,
     "metadata": {},
     "output_type": "execute_result"
    }
   ],
   "source": [
    "venc_dates = [i.find('dvenc').text.split('-') for i in bs_content.find('cobr').find_all('dup')]\n",
    "venc_dates = [datetime.datetime(int(i[0]), int(i[1]), int(i[2])) for i in venc_dates]\n",
    "venc_dates"
   ]
  },
  {
   "cell_type": "code",
   "execution_count": 46,
   "metadata": {},
   "outputs": [
    {
     "data": {
      "text/plain": [
       "'2019-10-04T00:00:00'"
      ]
     },
     "execution_count": 46,
     "metadata": {},
     "output_type": "execute_result"
    }
   ],
   "source": [
    "venc_dates[0].isoformat()"
   ]
  },
  {
   "cell_type": "code",
   "execution_count": null,
   "metadata": {},
   "outputs": [],
   "source": []
  },
  {
   "cell_type": "code",
   "execution_count": 26,
   "metadata": {},
   "outputs": [
    {
     "name": "stdout",
     "output_type": "stream",
     "text": [
      "O cnpj 87821385000136, com o nome TEDESCO EQUIPAMENTOS PARA GASTRONOMIA LT, emitiu a nota de id=NFe43190987821385000136550000000814021986642151 para o CNPJ 30987008000154, com o nome QUINTANILHA E SOUZA LTDA, no valor de: 4600.00\n"
     ]
    }
   ],
   "source": [
    "emit = bs_content.find('emit')\n",
    "emit_cnpj = emit.find('cnpj').text\n",
    "emit_nome = emit.find('xnome').text\n",
    "\n",
    "dest = bs_content.find('dest')\n",
    "dest_cnpj = dest.find('cnpj').text\n",
    "dest_nome = dest.find('xnome').text\n",
    "\n",
    "nfe_id = bs_content.find('infnfe')['id']\n",
    "\n",
    "cobr_fat_vorig = bs_content.find('cobr').find('fat').find('vorig').text\n",
    "\n",
    "print('O cnpj {}, com o nome {}, emitiu a nota de id={} para o CNPJ {}, com o nome {}, no valor de: {}'.format(emit_cnpj, emit_nome, nfe_id,dest_cnpj, dest_nome, cobr_fat_vorig))"
   ]
  },
  {
   "cell_type": "code",
   "execution_count": 45,
   "metadata": {},
   "outputs": [
    {
     "ename": "AttributeError",
     "evalue": "'str' object has no attribute 'text'",
     "output_type": "error",
     "traceback": [
      "\u001b[0;31m---------------------------------------------------------------------------\u001b[0m",
      "\u001b[0;31mAttributeError\u001b[0m                            Traceback (most recent call last)",
      "\u001b[0;32m<ipython-input-45-68e0afde2d34>\u001b[0m in \u001b[0;36m<module>\u001b[0;34m\u001b[0m\n\u001b[0;32m----> 1\u001b[0;31m \u001b[0mbs_content\u001b[0m\u001b[0;34m.\u001b[0m\u001b[0mfind\u001b[0m\u001b[0;34m(\u001b[0m\u001b[0;34m'infnfe'\u001b[0m\u001b[0;34m)\u001b[0m\u001b[0;34m[\u001b[0m\u001b[0;34m'id'\u001b[0m\u001b[0;34m]\u001b[0m\u001b[0;34m.\u001b[0m\u001b[0mtext\u001b[0m\u001b[0;34m\u001b[0m\u001b[0;34m\u001b[0m\u001b[0m\n\u001b[0m",
      "\u001b[0;31mAttributeError\u001b[0m: 'str' object has no attribute 'text'"
     ]
    }
   ],
   "source": []
  },
  {
   "cell_type": "code",
   "execution_count": 29,
   "metadata": {},
   "outputs": [],
   "source": [
    "exit_date = bs_content.find('ide').find('dhsaient')"
   ]
  },
  {
   "cell_type": "code",
   "execution_count": 30,
   "metadata": {},
   "outputs": [],
   "source": [
    "exit_date"
   ]
  },
  {
   "cell_type": "code",
   "execution_count": null,
   "metadata": {},
   "outputs": [],
   "source": []
  },
  {
   "cell_type": "code",
   "execution_count": null,
   "metadata": {},
   "outputs": [],
   "source": []
  }
 ],
 "metadata": {
  "kernelspec": {
   "display_name": "Python 3",
   "language": "python",
   "name": "python3"
  },
  "language_info": {
   "codemirror_mode": {
    "name": "ipython",
    "version": 3
   },
   "file_extension": ".py",
   "mimetype": "text/x-python",
   "name": "python",
   "nbconvert_exporter": "python",
   "pygments_lexer": "ipython3",
   "version": "3.7.6"
  }
 },
 "nbformat": 4,
 "nbformat_minor": 4
}
